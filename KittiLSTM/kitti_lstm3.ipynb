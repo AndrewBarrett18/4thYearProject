{
 "cells": [
  {
   "cell_type": "code",
   "execution_count": null,
   "metadata": {},
   "outputs": [],
   "source": [
    "from keras.models import Sequential\n",
    "from keras.layers.convolutional import Conv3D\n",
    "from keras.layers.convolutional_recurrent import ConvLSTM2D\n",
    "from keras.layers.normalization import BatchNormalization\n",
    "from keras.layers.core import Activation, Dropout, Dense\n",
    "from keras.layers import Flatten, LSTM\n",
    "import numpy as np\n",
    "import pylab as plt\n",
    "import tensorflow as tf\n",
    "from sklearn.preprocessing import normalize\n",
    "import os,glob\n"
   ]
  },
  {
   "cell_type": "code",
   "execution_count": null,
   "metadata": {},
   "outputs": [],
   "source": [
    "input_file = '/Users/mylesfoley/git/4thYearProject/0000.txt'\n",
    "\n",
    "#image_list = glob.glob('{:s}/**/*.jpg'.format(src_dir), recursive=True)\n",
    "#input_data = []\n",
    "input_data = {}\n",
    "with open(input_file, 'r') as data_stream:\n",
    "    for line in data_stream:\n",
    "        current_line = line.split(' ')\n",
    "        if not (('DontCare' in current_line[2]) or ('Pedestrian' in current_line[2]) or \n",
    "                ('Cyclist' in current_line[2])):\n",
    "            if (current_line[2]+ current_line[1]) in input_data.keys():\n",
    "                #key by object and unique identifier e.g. Car1\n",
    "                input_data[current_line[2] + current_line[1]].append({'frame': current_line[0], \n",
    "                     'bbox': current_line[6:10]})\n",
    "            else:\n",
    "                input_data[current_line[2] + current_line[1]] = [{'frame': current_line[0], \n",
    "                     'bbox': current_line[6:10]}]"
   ]
  },
  {
   "cell_type": "code",
   "execution_count": null,
   "metadata": {},
   "outputs": [],
   "source": [
    "X = []\n",
    "y = []\n",
    "list_lengths = []\n",
    "for unique_item in input_data:\n",
    "    item_list = []\n",
    "    for frame_entry in input_data[unique_item]:\n",
    "        item_list.append(frame_entry['bbox'])\n",
    "    list_lengths.append(len(item_list))\n",
    "    if len(item_list) > 27:\n",
    "        X.append(np.array(item_list[:28]))\n",
    "        y.append(np.array(item_list[:28]))\n",
    "X = np.array(X)\n",
    "y = np.array(y)"
   ]
  },
  {
   "cell_type": "code",
   "execution_count": null,
   "metadata": {},
   "outputs": [],
   "source": [
    "Xnorm = []\n",
    "ynorm = []\n",
    "for sample in range(0,X.shape[0]):\n",
    "    Xnorm.append(normalize(X[sample,:], axis=0)[:27])\n",
    "    \n",
    "    ynorm.append(normalize(y[sample, :], axis=0)[1:28])"
   ]
  },
  {
   "cell_type": "code",
   "execution_count": null,
   "metadata": {},
   "outputs": [],
   "source": [
    "ytr = np.array(ynorm[:8])\n",
    "Xtr = np.array(Xnorm[:8])\n",
    "yte = np.array(ynorm[8:9])\n",
    "Xte = np.array(Xnorm[8:9])"
   ]
  },
  {
   "cell_type": "code",
   "execution_count": null,
   "metadata": {},
   "outputs": [],
   "source": [
    "modelItem = Sequential()\n",
    "modelItem.add(LSTM(32, return_sequences = True,input_shape=(27, 4), activation='relu'))\n",
    "modelItem.add(Dropout(0.2))\n",
    "\n",
    "modelItem.add(LSTM(units = 50, return_sequences = True, activation='relu'))\n",
    "modelItem.add(Dropout(0.2))\n",
    "\n",
    "modelItem.add(LSTM(units = 50, return_sequences = True, activation='relu'))\n",
    "modelItem.add(Dropout(0.2))\n",
    "\n",
    "\n",
    "modelItem.add(Dense(4))\n",
    "modelItem.compile(optimizer='adam', loss='mse')"
   ]
  },
  {
   "cell_type": "code",
   "execution_count": null,
   "metadata": {},
   "outputs": [],
   "source": [
    "history = modelItem.fit(Xtr, ytr, epochs=500, validation_split=0.2, verbose=1)"
   ]
  },
  {
   "cell_type": "code",
   "execution_count": null,
   "metadata": {},
   "outputs": [],
   "source": [
    "modelItem.predict(Xte, verbose=0)"
   ]
  },
  {
   "cell_type": "code",
   "execution_count": null,
   "metadata": {},
   "outputs": [],
   "source": [
    "yte"
   ]
  }
 ],
 "metadata": {
  "kernelspec": {
   "display_name": "Python 3",
   "language": "python",
   "name": "python3"
  },
  "language_info": {
   "codemirror_mode": {
    "name": "ipython",
    "version": 3
   },
   "file_extension": ".py",
   "mimetype": "text/x-python",
   "name": "python",
   "nbconvert_exporter": "python",
   "pygments_lexer": "ipython3",
   "version": "3.7.5"
  }
 },
 "nbformat": 4,
 "nbformat_minor": 2
}
